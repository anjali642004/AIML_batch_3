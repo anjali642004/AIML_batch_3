{
 "cells": [
  {
   "cell_type": "code",
   "execution_count": 1,
   "metadata": {},
   "outputs": [
    {
     "name": "stdout",
     "output_type": "stream",
     "text": [
      "The adjacency List representing the graph is:\n",
      "{0: [1, 3], 1: [0, 2, 3], 2: [4, 1, 5], 3: [4, 0, 1], 4: [2, 3, 5], 5: [4, 2], 6: []}\n",
      "BFS traversal of graph with source 0 is:\n",
      "0-->1-->3-->2-->4-->5-->"
     ]
    }
   ],
   "source": [
    "from queue import Queue\n",
    " \n",
    "graph = {0: [1, 3], 1: [0, 2, 3], 2: [4, 1, 5], 3: [4, 0, 1], 4: [2, 3, 5], 5: [4, 2], 6: []}\n",
    "print(\"The adjacency List representing the graph is:\")\n",
    "print(graph)\n",
    " \n",
    " \n",
    "def bfs(graph, source):\n",
    "    Q = Queue()\n",
    "    visited_vertices = set()\n",
    "    Q.put(source)\n",
    "    visited_vertices.update({0})\n",
    "    while not Q.empty():\n",
    "        vertex = Q.get()\n",
    "        print(vertex, end=\"-->\")\n",
    "        for u in graph[vertex]:\n",
    "            if u not in visited_vertices:\n",
    "                Q.put(u)\n",
    "                visited_vertices.update({u})\n",
    " \n",
    "print(\"BFS traversal of graph with source 0 is:\")\n",
    "bfs(graph, 0)"
   ]
  }
 ],
 "metadata": {
  "kernelspec": {
   "display_name": "Python 3 (ipykernel)",
   "language": "python",
   "name": "python3"
  },
  "language_info": {
   "codemirror_mode": {
    "name": "ipython",
    "version": 3
   },
   "file_extension": ".py",
   "mimetype": "text/x-python",
   "name": "python",
   "nbconvert_exporter": "python",
   "pygments_lexer": "ipython3",
   "version": "3.10.13"
  }
 },
 "nbformat": 4,
 "nbformat_minor": 2
}
